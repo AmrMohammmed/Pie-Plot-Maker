{
 "cells": [
  {
   "cell_type": "code",
   "execution_count": 11,
   "id": "02f821e3",
   "metadata": {},
   "outputs": [],
   "source": [
    "import pandas as pd\n",
    "from collections import Counter\n",
    "import matplotlib.pyplot as plt\n",
    "import numpy as np\n",
    "import os"
   ]
  },
  {
   "cell_type": "code",
   "execution_count": 12,
   "id": "d23caaec",
   "metadata": {},
   "outputs": [],
   "source": [
    "def create_folder(path):\n",
    "#function to make path directories to save plots in if not already exists \n",
    "\n",
    "    # Check whether the specified path exists or not\n",
    "    isExist = os.path.exists(path)\n",
    "    if not isExist:\n",
    "       # Create a new directory because it does not exist\n",
    "        os.makedirs(path)\n",
    "        print(\"The new directory is created!\")"
   ]
  },
  {
   "cell_type": "code",
   "execution_count": 13,
   "id": "07a171f2",
   "metadata": {},
   "outputs": [],
   "source": [
    "def make_plots(sheet,file_name):\n",
    "    \n",
    "    df= pd.read_excel(file_name,sheet_name=sheet)\n",
    "    \n",
    "    #starts from column i (0) to the end of columns\n",
    "    for i in range(0,len(df.columns)):\n",
    "        #get data of column i\n",
    "        columnI=df.iloc[:, i]\n",
    "        \n",
    "        #count ocurrence of all categories in the column\n",
    "        columnI_count=Counter(columnI)\n",
    "        \n",
    "        #y is the count of every single category\n",
    "        y = np.array(list(columnI_count.values()))\n",
    "        \n",
    "        #mylabels are the categories in the column\n",
    "        mylabels =list(columnI_count.keys())\n",
    "        \n",
    "        #name of the column\n",
    "        plt.title(df.columns[i])\n",
    "        \n",
    "        plt.pie(y, labels = mylabels, autopct='%1.0f%%', pctdistance=1.1, labeldistance=1.2)\n",
    "#         plt.legend()\n",
    "\n",
    "        create_folder('plots//'+sheet+'//')\n",
    "    \n",
    "        #save plots in \"plots/sheet_name/column_name.jpeg\n",
    "        plt.savefig('plots//'+sheet+'//['+str(i-1)+']'+df.columns[i]+'.jpeg',dpi=200)\n",
    "        plt.show() \n",
    "\n"
   ]
  },
  {
   "cell_type": "code",
   "execution_count": null,
   "id": "085528e5",
   "metadata": {},
   "outputs": [],
   "source": [
    "make_plots(\"sheet1\",'Data.xlsx')"
   ]
  }
 ],
 "metadata": {
  "kernelspec": {
   "display_name": "Python 3 (ipykernel)",
   "language": "python",
   "name": "python3"
  },
  "language_info": {
   "codemirror_mode": {
    "name": "ipython",
    "version": 3
   },
   "file_extension": ".py",
   "mimetype": "text/x-python",
   "name": "python",
   "nbconvert_exporter": "python",
   "pygments_lexer": "ipython3",
   "version": "3.9.7"
  }
 },
 "nbformat": 4,
 "nbformat_minor": 5
}
