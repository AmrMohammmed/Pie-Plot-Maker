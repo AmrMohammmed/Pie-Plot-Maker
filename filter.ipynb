{
 "cells": [
  {
   "cell_type": "code",
   "execution_count": 27,
   "metadata": {},
   "outputs": [],
   "source": [
    "import pandas as pd\n",
    "from collections import Counter\n",
    "import matplotlib.pyplot as plt\n",
    "import numpy as np\n",
    "from arabic_reshaper import arabic_reshaper\n",
    "from bidi.algorithm import get_display\n",
    "import os"
   ]
  },
  {
   "cell_type": "code",
   "execution_count": null,
   "metadata": {},
   "outputs": [],
   "source": [
    "df= pd.read_excel(\"quest1.xls\")\n",
    "df"
   ]
  },
  {
   "cell_type": "code",
   "execution_count": null,
   "metadata": {},
   "outputs": [],
   "source": [
    "#print(df.columns[:27])\n",
    "print(df.columns[0:26])"
   ]
  },
  {
   "cell_type": "code",
   "execution_count": 49,
   "metadata": {},
   "outputs": [],
   "source": [
    "origin=df.loc[:,\"اسم المقرر\":\"5- هناك استخدام جيد للوقت المخصص للحصة.\"]\n",
    "#origin"
   ]
  },
  {
   "cell_type": "code",
   "execution_count": null,
   "metadata": {},
   "outputs": [],
   "source": [
    "for i in range(2,8):\n",
    "    temp=df.loc[:,\"اسم المقرر\"+\" \"+str(i):\"5- هناك استخدام جيد للوقت المخصص للحصة. \"+str(i)]\n",
    "    temp.columns=origin.columns\n",
    "    origin = pd.concat([origin, temp], ignore_index=True)\n",
    "#origin.dropna(how='all',inplace=True)\n",
    "origin.dropna(inplace=True)\n",
    "origin.index=[list(range(len(origin)))]\n",
    "origin"
   ]
  },
  {
   "cell_type": "code",
   "execution_count": null,
   "metadata": {},
   "outputs": [],
   "source": [
    "subjects=Counter(origin[\"اسم المقرر\"])\n",
    "subjects"
   ]
  },
  {
   "cell_type": "code",
   "execution_count": 52,
   "metadata": {},
   "outputs": [],
   "source": [
    "def create_folder(path):\n",
    "#function to make path directories to save plots in if not already exists \n",
    "\n",
    "    # Check whether the specified path exists or not\n",
    "    isExist = os.path.exists(path)\n",
    "    if not isExist:\n",
    "       # Create a new directory because it does not exist\n",
    "        os.makedirs(path)\n",
    "        print(\"The new directory is created!\")"
   ]
  },
  {
   "cell_type": "code",
   "execution_count": 53,
   "metadata": {},
   "outputs": [],
   "source": [
    "def format_arabic(x):\n",
    "    out=get_display(arabic_reshaper.reshape(x))\n",
    "    return(out)"
   ]
  },
  {
   "cell_type": "code",
   "execution_count": 54,
   "metadata": {},
   "outputs": [],
   "source": [
    "def make_plots(subjectDf):\n",
    "    subjectName=subjectDf.iat[0,0]\n",
    "    # read by default 1st sheet of an excel file    \n",
    "    #starts from column i (0) to the end of columns\n",
    "    for i in range(0,len(subjectDf.columns)):\n",
    "        \n",
    "        #get data of column i\n",
    "        columnI=subjectDf.iloc[:, i]\n",
    "        \n",
    "        #count ocurrence of all categories in the column\n",
    "        columnI_count=Counter(columnI)\n",
    "        \n",
    "        #y is the count of every single category\n",
    "        y = np.array(list(columnI_count.values()))\n",
    "        \n",
    "        #mylabels are the categories in the column\n",
    "        mylabels =list(columnI_count.keys())\n",
    "        \n",
    "        #mylables after being formatted to arabic text to be plotted correctly\n",
    "        lbs =[format_arabic(i) for i in mylabels]\n",
    "        \n",
    "        #name of the column\n",
    "        plt.title(format_arabic(subjectDf.columns[i]))\n",
    "\n",
    "        \n",
    "        plt.pie(y, labels = lbs, autopct='%1.0f%%', pctdistance=1.1, labeldistance=1.25)\n",
    "#         plt.legend()\n",
    "\n",
    "        create_folder('plots//'+subjectName+'//')\n",
    "    \n",
    "        #save plots in \"plots/subjectName/column_name.jpeg\n",
    "        plt.savefig('plots//'+subjectName+'//['+str(i-1)+']'+subjectDf.columns[i]+'.jpeg',dpi=200)\n",
    "        plt.show() \n",
    "\n"
   ]
  },
  {
   "cell_type": "code",
   "execution_count": null,
   "metadata": {},
   "outputs": [],
   "source": [
    "subjectData=origin[origin[\"اسم المقرر\"]=='English (1)']\n",
    "subjectData"
   ]
  },
  {
   "cell_type": "code",
   "execution_count": null,
   "metadata": {},
   "outputs": [],
   "source": [
    "for subjectName in subjects.keys():\n",
    "    subjectData=origin[origin[\"اسم المقرر\"]==subjectName]\n",
    "    make_plots(subjectData)"
   ]
  }
 ],
 "metadata": {
  "kernelspec": {
   "display_name": "base",
   "language": "python",
   "name": "python3"
  },
  "language_info": {
   "codemirror_mode": {
    "name": "ipython",
    "version": 3
   },
   "file_extension": ".py",
   "mimetype": "text/x-python",
   "name": "python",
   "nbconvert_exporter": "python",
   "pygments_lexer": "ipython3",
   "version": "3.9.7"
  }
 },
 "nbformat": 4,
 "nbformat_minor": 2
}
